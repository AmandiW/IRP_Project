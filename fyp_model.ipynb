{
 "cells": [
  {
   "cell_type": "code",
   "execution_count": 2,
   "id": "initial_id",
   "metadata": {
    "collapsed": true,
    "ExecuteTime": {
     "end_time": "2024-12-08T07:59:09.293590200Z",
     "start_time": "2024-12-08T07:59:02.205849400Z"
    }
   },
   "outputs": [],
   "source": [
    "import os\n",
    "import pandas as pd\n",
    "from PIL import Image\n",
    "from torchvision import models\n",
    "from torch.utils.data import Dataset, DataLoader\n",
    "import torch\n",
    "import torch.nn as nn\n",
    "import torch.optim as optim"
   ]
  },
  {
   "cell_type": "code",
   "execution_count": 7,
   "outputs": [],
   "source": [
    "# Paths\n",
    "image_dir = r\"D:\\APTOS data\\fyp_processed_dataset\\combined_images\"\n",
    "csv_path = r\"D:\\APTOS data\\fyp_processed_dataset\\cleaned_copy.csv\""
   ],
   "metadata": {
    "collapsed": false,
    "ExecuteTime": {
     "end_time": "2024-12-08T08:02:56.592710400Z",
     "start_time": "2024-12-08T08:02:56.547218Z"
    }
   },
   "id": "86115720ba8538d8"
  },
  {
   "cell_type": "code",
   "execution_count": 8,
   "outputs": [],
   "source": [
    "# Device configuration\n",
    "device = torch.device(\"cuda\" if torch.cuda.is_available() else \"cpu\")"
   ],
   "metadata": {
    "collapsed": false,
    "ExecuteTime": {
     "end_time": "2024-12-08T08:02:58.049520900Z",
     "start_time": "2024-12-08T08:02:58.029078900Z"
    }
   },
   "id": "2da10c9dcc50dce3"
  },
  {
   "cell_type": "code",
   "execution_count": 9,
   "outputs": [],
   "source": [
    "import numpy as np\n",
    "\n",
    "# Dataset Class\n",
    "class DiabeticRetinopathyDataset(Dataset):\n",
    "    def __init__(self, csv_file, image_dir):\n",
    "        self.data = pd.read_csv(csv_file)\n",
    "        self.image_dir = image_dir\n",
    "\n",
    "    def __len__(self):\n",
    "        return len(self.data)\n",
    "\n",
    "    def __getitem__(self, idx):\n",
    "        img_name = os.path.join(self.image_dir, self.data.iloc[idx, 0] + \".png\")\n",
    "        image = Image.open(img_name).convert(\"RGB\")\n",
    "        label = self.data.iloc[idx, 1]\n",
    "        # Convert image to tensor, since preprocessing is already done\n",
    "        image = torch.tensor(\n",
    "            np.array(image).transpose(2, 0, 1), dtype=torch.float32\n",
    "        ) / 255.0  # Scale to [0, 1]\n",
    "        return image, torch.tensor(label, dtype=torch.float32)\n",
    "\n",
    "# Load dataset\n",
    "dataset = DiabeticRetinopathyDataset(csv_path, image_dir)"
   ],
   "metadata": {
    "collapsed": false,
    "ExecuteTime": {
     "end_time": "2024-12-08T08:03:40.942928400Z",
     "start_time": "2024-12-08T08:03:40.883618100Z"
    }
   },
   "id": "dd1c64c6ee8b439b"
  },
  {
   "cell_type": "code",
   "execution_count": 10,
   "outputs": [],
   "source": [
    "# Split dataset into train and test\n",
    "from sklearn.model_selection import train_test_split\n",
    "\n",
    "train_data, test_data = train_test_split(dataset, test_size=0.2, random_state=42)\n",
    "train_loader = DataLoader(train_data, batch_size=16, shuffle=True)\n",
    "test_loader = DataLoader(test_data, batch_size=16, shuffle=False)"
   ],
   "metadata": {
    "collapsed": false,
    "ExecuteTime": {
     "end_time": "2024-12-08T08:07:59.672905500Z",
     "start_time": "2024-12-08T08:03:42.945102Z"
    }
   },
   "id": "3847a193c5eddd41"
  },
  {
   "cell_type": "code",
   "execution_count": 16,
   "outputs": [],
   "source": [
    "# Model Definitions\n",
    "def get_model(model_name):\n",
    "    if model_name == \"densenet\":\n",
    "        model = models.densenet121(pretrained=True)\n",
    "        model.classifier = nn.Linear(model.classifier.in_features, 1)\n",
    "    elif model_name == \"resnet\":\n",
    "        model = models.resnet50(pretrained=True)\n",
    "        model.fc = nn.Linear(model.fc.in_features, 1)\n",
    "    return model.to(device)\n"
   ],
   "metadata": {
    "collapsed": false,
    "ExecuteTime": {
     "end_time": "2024-12-08T08:10:41.114064300Z",
     "start_time": "2024-12-08T08:10:41.106555300Z"
    }
   },
   "id": "4acf4671a1a63e6f"
  },
  {
   "cell_type": "code",
   "execution_count": 17,
   "outputs": [],
   "source": [
    "from tqdm import tqdm\n",
    "\n",
    "# Training Function with tqdm\n",
    "def train_model(model, train_loader, num_epochs=10):\n",
    "    criterion = nn.BCEWithLogitsLoss()\n",
    "    optimizer = optim.Adam(model.parameters(), lr=0.001)\n",
    "    model.train()\n",
    "    for epoch in range(num_epochs):\n",
    "        total_loss = 0.0\n",
    "        progress_bar = tqdm(train_loader, desc=f\"Epoch {epoch + 1}/{num_epochs}\", unit=\"batch\")\n",
    "        for images, labels in progress_bar:\n",
    "            images, labels = images.to(device), labels.to(device).unsqueeze(1)\n",
    "            optimizer.zero_grad()\n",
    "            outputs = model(images)\n",
    "            loss = criterion(outputs, labels)\n",
    "            loss.backward()\n",
    "            optimizer.step()\n",
    "            total_loss += loss.item()\n",
    "\n",
    "            # Update progress bar with current loss\n",
    "            progress_bar.set_postfix(loss=loss.item())\n",
    "\n",
    "        # Print epoch summary\n",
    "        print(f\"Epoch {epoch + 1}/{num_epochs}, Loss: {total_loss / len(train_loader):.4f}\")\n",
    "\n"
   ],
   "metadata": {
    "collapsed": false,
    "ExecuteTime": {
     "end_time": "2024-12-08T08:10:42.539094900Z",
     "start_time": "2024-12-08T08:10:42.508277400Z"
    }
   },
   "id": "15f6dfa7ce19bce4"
  },
  {
   "cell_type": "code",
   "execution_count": 18,
   "outputs": [],
   "source": [
    "# Evaluation Function\n",
    "def evaluate_model(model, test_loader):\n",
    "    model.eval()\n",
    "    correct, total = 0, 0\n",
    "    with torch.no_grad():\n",
    "        for images, labels in test_loader:\n",
    "            images, labels = images.to(device), labels.to(device).unsqueeze(1)\n",
    "            outputs = torch.sigmoid(model(images))\n",
    "            predictions = (outputs > 0.5).float()\n",
    "            correct += (predictions == labels).sum().item()\n",
    "            total += labels.size(0)\n",
    "    print(f\"Accuracy: {100 * correct / total:.2f}%\")"
   ],
   "metadata": {
    "collapsed": false,
    "ExecuteTime": {
     "end_time": "2024-12-08T08:10:43.909911500Z",
     "start_time": "2024-12-08T08:10:43.887726400Z"
    }
   },
   "id": "d4566fc718107555"
  },
  {
   "cell_type": "code",
   "execution_count": 19,
   "outputs": [
    {
     "name": "stdout",
     "output_type": "stream",
     "text": [
      "\n",
      "Training DENSENET...\n"
     ]
    },
    {
     "name": "stderr",
     "output_type": "stream",
     "text": [
      "C:\\Users\\HP\\AppData\\Local\\Programs\\Python\\Python310\\lib\\site-packages\\torchvision\\models\\_utils.py:208: UserWarning: The parameter 'pretrained' is deprecated since 0.13 and may be removed in the future, please use 'weights' instead.\n",
      "  warnings.warn(\n",
      "C:\\Users\\HP\\AppData\\Local\\Programs\\Python\\Python310\\lib\\site-packages\\torchvision\\models\\_utils.py:223: UserWarning: Arguments other than a weight enum or `None` for 'weights' are deprecated since 0.13 and may be removed in the future. The current behavior is equivalent to passing `weights=DenseNet121_Weights.IMAGENET1K_V1`. You can also use `weights=DenseNet121_Weights.DEFAULT` to get the most up-to-date weights.\n",
      "  warnings.warn(msg)\n",
      "Downloading: \"https://download.pytorch.org/models/densenet121-a639ec97.pth\" to C:\\Users\\HP/.cache\\torch\\hub\\checkpoints\\densenet121-a639ec97.pth\n",
      "100%|██████████| 30.8M/30.8M [00:32<00:00, 1.00MB/s]\n",
      "Epoch 1/1: 100%|██████████| 548/548 [30:54<00:00,  3.38s/batch, loss=0.00742]\n"
     ]
    },
    {
     "name": "stdout",
     "output_type": "stream",
     "text": [
      "Epoch 1/1, Loss: 0.1765\n",
      "Evaluating DENSENET...\n",
      "Accuracy: 95.11%\n",
      "\n",
      "Training RESNET...\n"
     ]
    },
    {
     "name": "stderr",
     "output_type": "stream",
     "text": [
      "C:\\Users\\HP\\AppData\\Local\\Programs\\Python\\Python310\\lib\\site-packages\\torchvision\\models\\_utils.py:223: UserWarning: Arguments other than a weight enum or `None` for 'weights' are deprecated since 0.13 and may be removed in the future. The current behavior is equivalent to passing `weights=ResNet50_Weights.IMAGENET1K_V1`. You can also use `weights=ResNet50_Weights.DEFAULT` to get the most up-to-date weights.\n",
      "  warnings.warn(msg)\n",
      "Downloading: \"https://download.pytorch.org/models/resnet50-0676ba61.pth\" to C:\\Users\\HP/.cache\\torch\\hub\\checkpoints\\resnet50-0676ba61.pth\n",
      "100%|██████████| 97.8M/97.8M [00:57<00:00, 1.79MB/s]\n",
      "Epoch 1/1: 100%|██████████| 548/548 [33:27<00:00,  3.66s/batch, loss=0.117]  \n"
     ]
    },
    {
     "name": "stdout",
     "output_type": "stream",
     "text": [
      "Epoch 1/1, Loss: 0.2264\n",
      "Evaluating RESNET...\n",
      "Accuracy: 92.65%\n"
     ]
    }
   ],
   "source": [
    "# Main Script\n",
    "for model_name in [\"densenet\", \"resnet\"]:\n",
    "    print(f\"\\nTraining {model_name.upper()}...\")\n",
    "    model = get_model(model_name)\n",
    "    train_model(model, train_loader, num_epochs=1)\n",
    "    print(f\"Evaluating {model_name.upper()}...\")\n",
    "    evaluate_model(model, test_loader)"
   ],
   "metadata": {
    "collapsed": false,
    "ExecuteTime": {
     "end_time": "2024-12-08T09:22:04.041636500Z",
     "start_time": "2024-12-08T08:10:45.026155Z"
    }
   },
   "id": "2affd7d79bed4d84"
  },
  {
   "cell_type": "code",
   "execution_count": null,
   "outputs": [],
   "source": [],
   "metadata": {
    "collapsed": false
   },
   "id": "f91e236d168b46df"
  }
 ],
 "metadata": {
  "kernelspec": {
   "display_name": "Python 3",
   "language": "python",
   "name": "python3"
  },
  "language_info": {
   "codemirror_mode": {
    "name": "ipython",
    "version": 2
   },
   "file_extension": ".py",
   "mimetype": "text/x-python",
   "name": "python",
   "nbconvert_exporter": "python",
   "pygments_lexer": "ipython2",
   "version": "2.7.6"
  }
 },
 "nbformat": 4,
 "nbformat_minor": 5
}
