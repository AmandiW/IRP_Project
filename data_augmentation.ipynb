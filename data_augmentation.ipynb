{
 "cells": [
  {
   "cell_type": "code",
   "execution_count": 1,
   "id": "initial_id",
   "metadata": {
    "collapsed": true,
    "ExecuteTime": {
     "end_time": "2024-12-04T06:43:11.929072300Z",
     "start_time": "2024-12-04T06:43:10.719828300Z"
    }
   },
   "outputs": [
    {
     "name": "stdout",
     "output_type": "stream",
     "text": [
      "Class Distribution:\n",
      "diagnosis\n",
      "1    1852\n",
      "0    1796\n",
      "Name: count, dtype: int64\n"
     ]
    },
    {
     "data": {
      "text/plain": "<Figure size 800x600 with 1 Axes>",
      "image/png": "[encoded data removed]"
     },
     "metadata": {},
     "output_type": "display_data"
    }
   ],
   "source": [
    "import pandas as pd\n",
    "import matplotlib.pyplot as plt\n",
    "\n",
    "# Load the cleaned dataset\n",
    "cleaned_csv_path = r\"D:\\APTOS data\\fyp_processed_dataset\\cleaned_image_labels.csv\"\n",
    "data = pd.read_csv(cleaned_csv_path)\n",
    "\n",
    "# Class distribution\n",
    "class_counts = data['diagnosis'].value_counts()\n",
    "print(\"Class Distribution:\")\n",
    "print(class_counts)\n",
    "\n",
    "# Visualize the distribution\n",
    "plt.figure(figsize=(8, 6))\n",
    "class_counts.plot(kind='bar', color=['skyblue', 'orange'])\n",
    "plt.title(\"Class Distribution\")\n",
    "plt.xlabel(\"Diagnosis (0: No DR, 1: DR)\")\n",
    "plt.ylabel(\"Number of Samples\")\n",
    "plt.xticks(rotation=0)\n",
    "plt.show()\n"
   ]
  },
  {
   "cell_type": "markdown",
   "source": [
    "As classes are balanced, no sampling will be done."
   ],
   "metadata": {
    "collapsed": false
   },
   "id": "a1be71390ad3b9e3"
  },
  {
   "cell_type": "code",
   "execution_count": 15,
   "outputs": [
    {
     "name": "stdout",
     "output_type": "stream",
     "text": [
      "Original Dataset:\n",
      "        id_code  diagnosis                                         image_path\n",
      "0  000c1434d8d7          1  D:\\APTOS data\\fyp_processed_dataset\\images\\000...\n",
      "1  001639a390f0          1  D:\\APTOS data\\fyp_processed_dataset\\images\\001...\n",
      "2  0024cdab0c1e          1  D:\\APTOS data\\fyp_processed_dataset\\images\\002...\n",
      "3  002c21358ce6          0  D:\\APTOS data\\fyp_processed_dataset\\images\\002...\n",
      "4  005b95c28852          0  D:\\APTOS data\\fyp_processed_dataset\\images\\005...\n",
      "Total original images: 21886\n"
     ]
    }
   ],
   "source": [
    "import os\n",
    "import pandas as pd\n",
    "import cv2\n",
    "from tensorflow.keras.preprocessing.image import ImageDataGenerator\n",
    "from tqdm import tqdm\n",
    "\n",
    "# Paths\n",
    "original_csv_path = r\"D:\\APTOS data\\fyp_processed_dataset\\cleaned_image_labels.csv\"\n",
    "image_folder = r\"D:\\APTOS data\\fyp_processed_dataset\\images\"\n",
    "augmented_folder = r\"D:\\APTOS data\\fyp_processed_dataset\\augmented_images\"\n",
    "os.makedirs(augmented_folder, exist_ok=True)\n",
    "\n",
    "# Load the original dataset\n",
    "data = pd.read_csv(original_csv_path)\n",
    "\n",
    "# Inspect the data\n",
    "print(\"Original Dataset:\")\n",
    "print(data.head())\n",
    "print(f\"Total original images: {data.shape[0]}\")\n"
   ],
   "metadata": {
    "collapsed": false,
    "ExecuteTime": {
     "end_time": "2024-12-04T10:40:59.832435500Z",
     "start_time": "2024-12-04T10:40:59.771853800Z"
    }
   },
   "id": "280e0f32b178b831"
  },
  {
   "cell_type": "code",
   "execution_count": 16,
   "outputs": [],
   "source": [
    "def pad_and_resize(img, target_size=(224, 224)):\n",
    "    h, w, _ = img.shape\n",
    "    scale = target_size[0] / max(h, w)\n",
    "    new_h, new_w = int(h * scale), int(w * scale)\n",
    "\n",
    "    # Resize the image while maintaining aspect ratio\n",
    "    resized = cv2.resize(img, (new_w, new_h))\n",
    "\n",
    "    # Add padding to reach target size\n",
    "    top = (target_size[0] - new_h) // 2\n",
    "    bottom = target_size[0] - new_h - top\n",
    "    left = (target_size[1] - new_w) // 2\n",
    "    right = target_size[1] - new_w - left\n",
    "\n",
    "    padded = cv2.copyMakeBorder(resized, top, bottom, left, right, cv2.BORDER_CONSTANT, value=[0, 0, 0])\n",
    "    return padded\n"
   ],
   "metadata": {
    "collapsed": false,
    "ExecuteTime": {
     "end_time": "2024-12-04T10:41:03.503019700Z",
     "start_time": "2024-12-04T10:41:03.479967500Z"
    }
   },
   "id": "ab82a0a13ba2c1d9"
  },
  {
   "cell_type": "code",
   "execution_count": 17,
   "outputs": [],
   "source": [
    "# Data augmentation setup\n",
    "datagen = ImageDataGenerator(\n",
    "    rotation_range=30,          # Rotate images randomly up to 30 degrees\n",
    "    zoom_range=0.2,             # Slight zoom in/out\n",
    "    horizontal_flip=True,       # Flip images horizontally\n",
    "    vertical_flip=False,        # No vertical flip for medical images\n",
    "    fill_mode='nearest'         # Fill empty areas with nearest pixel values\n",
    ")\n",
    "\n",
    "# Number of augmented images per original image\n",
    "augment_count = 2\n"
   ],
   "metadata": {
    "collapsed": false,
    "ExecuteTime": {
     "end_time": "2024-12-04T10:41:23.120339400Z",
     "start_time": "2024-12-04T10:41:23.076497900Z"
    }
   },
   "id": "3ec08ce91db8ace7"
  },
  {
   "cell_type": "code",
   "execution_count": 18,
   "outputs": [
    {
     "name": "stdout",
     "output_type": "stream",
     "text": [
      "Generating augmented images...\n"
     ]
    },
    {
     "name": "stderr",
     "output_type": "stream",
     "text": [
      "Augmenting images: 100%|██████████| 3648/3648 [05:25<00:00, 11.22it/s]\n"
     ]
    }
   ],
   "source": [
    "print(\"Generating augmented images...\")\n",
    "for img_name in tqdm(os.listdir(image_folder), desc=\"Augmenting images\"):\n",
    "    img_path = os.path.join(image_folder, img_name)\n",
    "    if img_path.endswith(\".png\"):\n",
    "        img = cv2.imread(img_path)  # Read the image\n",
    "        img = cv2.cvtColor(img, cv2.COLOR_BGR2RGB)  # Convert to RGB\n",
    "        img = pad_and_resize(img)  # Pad and resize to maintain aspect ratio\n",
    "        img = img.reshape((1,) + img.shape)  # Reshape for the generator\n",
    "        \n",
    "        # Save augmented images\n",
    "        aug_iter = datagen.flow(img, batch_size=1, save_to_dir=augmented_folder, \n",
    "                                save_prefix=f\"{os.path.splitext(img_name)[0]}_aug\", save_format='png')\n",
    "        for _ in range(augment_count):\n",
    "            next(aug_iter)\n"
   ],
   "metadata": {
    "collapsed": false,
    "ExecuteTime": {
     "end_time": "2024-12-04T10:47:17.952093200Z",
     "start_time": "2024-12-04T10:41:52.629212100Z"
    }
   },
   "id": "505cb6c673d582b7"
  },
  {
   "cell_type": "code",
   "execution_count": 19,
   "outputs": [
    {
     "name": "stdout",
     "output_type": "stream",
     "text": [
      "Updated dataset saved to: D:\\APTOS data\\fyp_processed_dataset\\cleaned_image_labels.csv\n",
      "Total images in updated dataset: 29181\n"
     ]
    }
   ],
   "source": [
    "# Create new entries for augmented images\n",
    "augmented_data = []\n",
    "for img_name in os.listdir(augmented_folder):\n",
    "    if img_name.endswith(\".png\"):\n",
    "        # Extract the original ID from the augmented filename\n",
    "        original_id = img_name.split(\"_aug\")[0]\n",
    "        # Find the diagnosis for the original image\n",
    "        label = data[data['id_code'] == original_id]['diagnosis'].values[0]\n",
    "        # Append a new entry for the augmented image\n",
    "        augmented_data.append({\"id_code\": os.path.splitext(img_name)[0], \"diagnosis\": label})\n",
    "\n",
    "# Convert to DataFrame\n",
    "augmented_df = pd.DataFrame(augmented_data)\n",
    "\n",
    "# Combine with the original dataset\n",
    "updated_data = pd.concat([data, augmented_df], ignore_index=True)\n",
    "\n",
    "# Save the updated dataset\n",
    "updated_csv_path = r\"D:\\APTOS data\\fyp_processed_dataset\\cleaned_image_labels.csv\"\n",
    "updated_data.to_csv(updated_csv_path, index=False)\n",
    "\n",
    "print(f\"Updated dataset saved to: {updated_csv_path}\")\n",
    "print(f\"Total images in updated dataset: {updated_data.shape[0]}\")\n"
   ],
   "metadata": {
    "collapsed": false,
    "ExecuteTime": {
     "end_time": "2024-12-04T11:25:52.888387400Z",
     "start_time": "2024-12-04T11:25:39.720805500Z"
    }
   },
   "id": "3af585f0dafafd45"
  },
  {
   "cell_type": "code",
   "execution_count": 20,
   "outputs": [
    {
     "name": "stdout",
     "output_type": "stream",
     "text": [
      "All images have correct dimensions (224x224).\n"
     ]
    }
   ],
   "source": [
    "# Verify the dimensions of augmented images\n",
    "incorrect_dimensions = []\n",
    "for img_name in os.listdir(augmented_folder):\n",
    "    img_path = os.path.join(augmented_folder, img_name)\n",
    "    img = cv2.imread(img_path)\n",
    "    h, w, _ = img.shape\n",
    "    if (h, w) != (224, 224):\n",
    "        incorrect_dimensions.append((img_name, h, w))\n",
    "\n",
    "if len(incorrect_dimensions) == 0:\n",
    "    print(\"All images have correct dimensions (224x224).\")\n",
    "else:\n",
    "    print(f\"{len(incorrect_dimensions)} images have incorrect dimensions:\")\n",
    "    for name, h, w in incorrect_dimensions[:10]:  # Print the first 10\n",
    "        print(f\"{name}: {h}x{w}\")\n"
   ],
   "metadata": {
    "collapsed": false,
    "ExecuteTime": {
     "end_time": "2024-12-04T11:28:28.440885100Z",
     "start_time": "2024-12-04T11:26:55.809743100Z"
    }
   },
   "id": "113e0f36aac86247"
  },
  {
   "cell_type": "code",
   "execution_count": 21,
   "outputs": [
    {
     "name": "stdout",
     "output_type": "stream",
     "text": [
      "Dataset loaded:\n",
      "        id_code  diagnosis                                         image_path\n",
      "0  000c1434d8d7          1  D:\\APTOS data\\fyp_processed_dataset\\images\\000...\n",
      "1  001639a390f0          1  D:\\APTOS data\\fyp_processed_dataset\\images\\001...\n",
      "2  0024cdab0c1e          1  D:\\APTOS data\\fyp_processed_dataset\\images\\002...\n",
      "3  002c21358ce6          0  D:\\APTOS data\\fyp_processed_dataset\\images\\002...\n",
      "4  005b95c28852          0  D:\\APTOS data\\fyp_processed_dataset\\images\\005...\n"
     ]
    }
   ],
   "source": [
    "# check if the augmented dataset is valid \n",
    "import pandas as pd\n",
    "import os\n",
    "\n",
    "# Paths\n",
    "csv_path = r\"D:\\APTOS data\\fyp_processed_dataset\\cleaned_image_labels.csv\"\n",
    "original_images_folder = r\"D:\\APTOS data\\fyp_processed_dataset\\images\"\n",
    "augmented_images_folder = r\"D:\\APTOS data\\fyp_processed_dataset\\augmented_images\"\n",
    "\n",
    "# Load the dataset\n",
    "data = pd.read_csv(csv_path)\n",
    "\n",
    "# Inspect the dataset\n",
    "print(\"Dataset loaded:\")\n",
    "print(data.head())\n"
   ],
   "metadata": {
    "collapsed": false,
    "ExecuteTime": {
     "end_time": "2024-12-04T11:28:34.592636Z",
     "start_time": "2024-12-04T11:28:34.515754900Z"
    }
   },
   "id": "89a6b9f13653af2a"
  },
  {
   "cell_type": "code",
   "execution_count": 22,
   "outputs": [],
   "source": [
    "# Get image IDs from the original folder\n",
    "original_ids = set(os.path.splitext(f)[0] for f in os.listdir(original_images_folder) if f.endswith(\".png\"))\n",
    "\n",
    "# Get image IDs from the augmented folder\n",
    "augmented_ids = set(os.path.splitext(f)[0] for f in os.listdir(augmented_images_folder) if f.endswith(\".png\"))\n",
    "\n",
    "# Combine both sets\n",
    "all_folder_ids = original_ids.union(augmented_ids)\n"
   ],
   "metadata": {
    "collapsed": false,
    "ExecuteTime": {
     "end_time": "2024-12-04T11:28:37.796669800Z",
     "start_time": "2024-12-04T11:28:37.741772800Z"
    }
   },
   "id": "e13ecd28cfb4c2b0"
  },
  {
   "cell_type": "code",
   "execution_count": 23,
   "outputs": [
    {
     "name": "stdout",
     "output_type": "stream",
     "text": [
      "All folder IDs are accounted for in the CSV.\n",
      "IDs missing in folders: 18228\n",
      "['65f5d2a6eb7e_aug_0_90', 'e821c1b6417a_aug_0_6447', '7ddcfcea7369_aug_0_2876', 'febfb20dc311_aug_0_2698', 'ad570b850a4f_aug_0_9375', '85fce24084da_aug_0_1093', '1c578b72d7b3_aug_0_4264', '1509d097b69a_aug_0_2757', 'ae975c43bd8b_aug_0_7219', 'c1437a7a52c9_aug_0_1276']\n"
     ]
    }
   ],
   "source": [
    "# Get image IDs from the CSV\n",
    "csv_ids = set(data['id_code'])\n",
    "\n",
    "# Find missing and extra IDs\n",
    "missing_in_csv = all_folder_ids - csv_ids\n",
    "missing_in_folders = csv_ids - all_folder_ids\n",
    "\n",
    "# Print results\n",
    "if not missing_in_csv:\n",
    "    print(\"All folder IDs are accounted for in the CSV.\")\n",
    "else:\n",
    "    print(f\"IDs missing in CSV: {len(missing_in_csv)}\")\n",
    "    print(list(missing_in_csv)[:10])  # Print first 10 missing IDs for inspection\n",
    "\n",
    "if not missing_in_folders:\n",
    "    print(\"All CSV IDs are accounted for in the folders.\")\n",
    "else:\n",
    "    print(f\"IDs missing in folders: {len(missing_in_folders)}\")\n",
    "    print(list(missing_in_folders)[:10])  # Print first 10 missing IDs for inspection\n"
   ],
   "metadata": {
    "collapsed": false,
    "ExecuteTime": {
     "end_time": "2024-12-04T11:28:42.797501800Z",
     "start_time": "2024-12-04T11:28:42.761984Z"
    }
   },
   "id": "a9ba349bd522e5f8"
  },
  {
   "cell_type": "code",
   "execution_count": 24,
   "outputs": [
    {
     "name": "stdout",
     "output_type": "stream",
     "text": [
      "Number of images in CSV: 29171\n",
      "Number of images in folders (combined): 10943\n"
     ]
    }
   ],
   "source": [
    "# Total images in folders and CSV\n",
    "print(f\"Number of images in CSV: {len(csv_ids)}\")\n",
    "print(f\"Number of images in folders (combined): {len(all_folder_ids)}\")\n"
   ],
   "metadata": {
    "collapsed": false,
    "ExecuteTime": {
     "end_time": "2024-12-04T11:28:45.795363200Z",
     "start_time": "2024-12-04T11:28:45.763487400Z"
    }
   },
   "id": "d07c39eaff90111c"
  },
  {
   "cell_type": "code",
   "execution_count": 25,
   "outputs": [],
   "source": [
    "import os\n",
    "import pandas as pd\n",
    "\n",
    "# Paths\n",
    "csv_path = r\"D:\\APTOS data\\fyp_processed_dataset\\cleaned_image_labels.csv\"\n",
    "original_images_folder = r\"D:\\APTOS data\\fyp_processed_dataset\\images\"\n",
    "augmented_images_folder = r\"D:\\APTOS data\\fyp_processed_dataset\\augmented_images\"\n",
    "\n",
    "# Get image IDs from the original folder\n",
    "original_ids = set(os.path.splitext(f)[0] for f in os.listdir(original_images_folder) if f.endswith(\".png\"))\n",
    "\n",
    "# Get image IDs from the augmented folder\n",
    "augmented_ids = set(os.path.splitext(f)[0] for f in os.listdir(augmented_images_folder) if f.endswith(\".png\"))\n",
    "\n",
    "# Combine both sets of IDs\n",
    "all_folder_ids = original_ids.union(augmented_ids)\n"
   ],
   "metadata": {
    "collapsed": false,
    "ExecuteTime": {
     "end_time": "2024-12-04T11:32:50.617759300Z",
     "start_time": "2024-12-04T11:32:50.502750100Z"
    }
   },
   "id": "2789dba54130a6ad"
  },
  {
   "cell_type": "code",
   "execution_count": 26,
   "outputs": [
    {
     "name": "stdout",
     "output_type": "stream",
     "text": [
      "Filtered CSV saved to: D:\\APTOS data\\fyp_processed_dataset\\cleaned_valid_image_labels.csv\n",
      "Number of rows in the filtered CSV: 10949\n"
     ]
    }
   ],
   "source": [
    "# Load the CSV file\n",
    "data = pd.read_csv(csv_path)\n",
    "\n",
    "# Get IDs from the CSV\n",
    "csv_ids = set(data['id_code'])\n",
    "\n",
    "# Find valid IDs (those that exist in the folders)\n",
    "valid_ids = csv_ids.intersection(all_folder_ids)\n",
    "\n",
    "# Filter the CSV to keep only rows with valid IDs\n",
    "filtered_data = data[data['id_code'].isin(valid_ids)]\n",
    "\n",
    "# Save the cleaned CSV\n",
    "cleaned_csv_path = r\"D:\\APTOS data\\fyp_processed_dataset\\cleaned_valid_image_labels.csv\"\n",
    "filtered_data.to_csv(cleaned_csv_path, index=False)\n",
    "\n",
    "print(f\"Filtered CSV saved to: {cleaned_csv_path}\")\n",
    "print(f\"Number of rows in the filtered CSV: {len(filtered_data)}\")\n",
    "` "
   ],
   "metadata": {
    "collapsed": false,
    "ExecuteTime": {
     "end_time": "2024-12-04T11:33:06.856323800Z",
     "start_time": "2024-12-04T11:33:06.766457400Z"
    }
   },
   "id": "da00f9097eddbaf1"
  },
  {
   "cell_type": "code",
   "execution_count": 27,
   "outputs": [
    {
     "name": "stdout",
     "output_type": "stream",
     "text": [
      "Number of extra IDs in CSV: 18228\n",
      "Extra IDs in CSV (first 10): ['65f5d2a6eb7e_aug_0_90', 'e821c1b6417a_aug_0_6447', '7ddcfcea7369_aug_0_2876', 'febfb20dc311_aug_0_2698', 'ad570b850a4f_aug_0_9375', '85fce24084da_aug_0_1093', '1c578b72d7b3_aug_0_4264', '1509d097b69a_aug_0_2757', 'ae975c43bd8b_aug_0_7219', 'c1437a7a52c9_aug_0_1276']\n",
      "Number of missing IDs in CSV: 0\n",
      "Missing IDs in CSV (first 10): []\n"
     ]
    }
   ],
   "source": [
    "# IDs in the CSV but not in the folders\n",
    "extra_ids_in_csv = csv_ids - all_folder_ids\n",
    "\n",
    "# IDs in the folders but not in the CSV\n",
    "missing_ids_in_csv = all_folder_ids - csv_ids\n",
    "\n",
    "# Print results\n",
    "print(f\"Number of extra IDs in CSV: {len(extra_ids_in_csv)}\")\n",
    "print(f\"Extra IDs in CSV (first 10): {list(extra_ids_in_csv)[:10]}\")\n",
    "\n",
    "print(f\"Number of missing IDs in CSV: {len(missing_ids_in_csv)}\")\n",
    "print(f\"Missing IDs in CSV (first 10): {list(missing_ids_in_csv)[:10]}\")\n"
   ],
   "metadata": {
    "collapsed": false,
    "ExecuteTime": {
     "end_time": "2024-12-04T11:33:41.624987200Z",
     "start_time": "2024-12-04T11:33:41.546178600Z"
    }
   },
   "id": "fb7d5e452bdb8cd4"
  },
  {
   "cell_type": "code",
   "execution_count": 28,
   "outputs": [
    {
     "name": "stdout",
     "output_type": "stream",
     "text": [
      "All images listed in the CSV are present in the folders.\n",
      "No extra images are present in the folders.\n",
      "Number of images in CSV: 10943\n",
      "Number of images in folders (combined): 10943\n"
     ]
    }
   ],
   "source": [
    "import os\n",
    "import pandas as pd\n",
    "\n",
    "# Paths\n",
    "csv_path = r\"D:\\APTOS data\\fyp_processed_dataset\\cleaned_valid_image_labels.csv\"\n",
    "original_images_folder = r\"D:\\APTOS data\\fyp_processed_dataset\\images\"\n",
    "augmented_images_folder = r\"D:\\APTOS data\\fyp_processed_dataset\\augmented_images\"\n",
    "\n",
    "# Load the CSV file\n",
    "data = pd.read_csv(csv_path)\n",
    "\n",
    "# Get IDs from the CSV\n",
    "csv_ids = set(data['id_code'])\n",
    "\n",
    "# Get IDs from the original images folder\n",
    "original_ids = set(os.path.splitext(f)[0] for f in os.listdir(original_images_folder) if f.endswith(\".png\"))\n",
    "\n",
    "# Get IDs from the augmented images folder\n",
    "augmented_ids = set(os.path.splitext(f)[0] for f in os.listdir(augmented_images_folder) if f.endswith(\".png\"))\n",
    "\n",
    "# Combine folder IDs\n",
    "all_folder_ids = original_ids.union(augmented_ids)\n",
    "\n",
    "# Check for missing IDs in folders\n",
    "missing_in_folders = csv_ids - all_folder_ids\n",
    "\n",
    "# Check for extra IDs in folders\n",
    "extra_in_folders = all_folder_ids - csv_ids\n",
    "\n",
    "# Results\n",
    "if not missing_in_folders:\n",
    "    print(\"All images listed in the CSV are present in the folders.\")\n",
    "else:\n",
    "    print(f\"Missing images in folders: {len(missing_in_folders)}\")\n",
    "    print(f\"Missing IDs (first 10): {list(missing_in_folders)[:10]}\")\n",
    "    # Save missing IDs to a text file\n",
    "    with open(r\"D:\\APTOS data\\missing_ids_in_folders.txt\", \"w\") as file:\n",
    "        file.write(\"\\n\".join(missing_in_folders))\n",
    "\n",
    "if not extra_in_folders:\n",
    "    print(\"No extra images are present in the folders.\")\n",
    "else:\n",
    "    print(f\"Extra images in folders: {len(extra_in_folders)}\")\n",
    "    print(f\"Extra IDs (first 10): {list(extra_in_folders)[:10]}\")\n",
    "    # Save extra IDs to a text file\n",
    "    with open(r\"D:\\APTOS data\\extra_ids_in_folders.txt\", \"w\") as file:\n",
    "        file.write(\"\\n\".join(extra_in_folders))\n",
    "\n",
    "# Final Dataset Check\n",
    "print(f\"Number of images in CSV: {len(csv_ids)}\")\n",
    "print(f\"Number of images in folders (combined): {len(all_folder_ids)}\")"
   ],
   "metadata": {
    "collapsed": false,
    "ExecuteTime": {
     "end_time": "2024-12-04T11:45:33.923075400Z",
     "start_time": "2024-12-04T11:45:33.830352700Z"
    }
   },
   "id": "ba20c848a04eec87"
  }
 ],
 "metadata": {
  "kernelspec": {
   "display_name": "Python 3",
   "language": "python",
   "name": "python3"
  },
  "language_info": {
   "codemirror_mode": {
    "name": "ipython",
    "version": 2
   },
   "file_extension": ".py",
   "mimetype": "text/x-python",
   "name": "python",
   "nbconvert_exporter": "python",
   "pygments_lexer": "ipython2",
   "version": "2.7.6"
  }
 },
 "nbformat": 4,
 "nbformat_minor": 5
}
