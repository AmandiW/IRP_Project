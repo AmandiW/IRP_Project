{
 "cells": [
  {
   "cell_type": "code",
   "execution_count": 1,
   "id": "initial_id",
   "metadata": {
    "collapsed": true,
    "ExecuteTime": {
     "end_time": "2024-12-04T06:43:11.929072300Z",
     "start_time": "2024-12-04T06:43:10.719828300Z"
    }
   },
   "outputs": [
    {
     "name": "stdout",
     "output_type": "stream",
     "text": [
      "Class Distribution:\n",
      "diagnosis\n",
      "1    1852\n",
      "0    1796\n",
      "Name: count, dtype: int64\n"
     ]
    },
    {
     "data": {
      "text/plain": "<Figure size 800x600 with 1 Axes>",
      "image/png": "[encoded data removed]"
     },
     "metadata": {},
     "output_type": "display_data"
    }
   ],
   "source": [
    "import pandas as pd\n",
    "import matplotlib.pyplot as plt\n",
    "\n",
    "# Load the cleaned dataset\n",
    "cleaned_csv_path = r\"D:\\APTOS data\\fyp_processed_dataset\\cleaned_image_labels.csv\"\n",
    "data = pd.read_csv(cleaned_csv_path)\n",
    "\n",
    "# Class distribution\n",
    "class_counts = data['diagnosis'].value_counts()\n",
    "print(\"Class Distribution:\")\n",
    "print(class_counts)\n",
    "\n",
    "# Visualize the distribution\n",
    "plt.figure(figsize=(8, 6))\n",
    "class_counts.plot(kind='bar', color=['skyblue', 'orange'])\n",
    "plt.title(\"Class Distribution\")\n",
    "plt.xlabel(\"Diagnosis (0: No DR, 1: DR)\")\n",
    "plt.ylabel(\"Number of Samples\")\n",
    "plt.xticks(rotation=0)\n",
    "plt.show()\n"
   ]
  },
  {
   "cell_type": "markdown",
   "source": [
    "As classes are balanced, no sampling will be done."
   ],
   "metadata": {
    "collapsed": false
   },
   "id": "a1be71390ad3b9e3"
  },
  {
   "cell_type": "code",
   "execution_count": 5,
   "outputs": [
    {
     "name": "stdout",
     "output_type": "stream",
     "text": [
      "Original Dataset:\n",
      "        id_code  diagnosis                                         image_path\n",
      "0  000c1434d8d7          1  D:\\APTOS data\\fyp_processed_dataset\\images\\000...\n",
      "1  001639a390f0          1  D:\\APTOS data\\fyp_processed_dataset\\images\\001...\n",
      "2  0024cdab0c1e          1  D:\\APTOS data\\fyp_processed_dataset\\images\\002...\n",
      "3  002c21358ce6          0  D:\\APTOS data\\fyp_processed_dataset\\images\\002...\n",
      "4  005b95c28852          0  D:\\APTOS data\\fyp_processed_dataset\\images\\005...\n",
      "Total original images: 3648\n"
     ]
    }
   ],
   "source": [
    "import os\n",
    "import pandas as pd\n",
    "import cv2\n",
    "from tensorflow.keras.preprocessing.image import ImageDataGenerator\n",
    "from tqdm import tqdm\n",
    "\n",
    "# Paths\n",
    "original_csv_path = r\"D:\\APTOS data\\fyp_processed_dataset\\cleaned_image_labels.csv\"\n",
    "image_folder = r\"D:\\APTOS data\\fyp_processed_dataset\\images\"\n",
    "augmented_folder = r\"D:\\APTOS data\\fyp_processed_dataset\\augmented_images\"\n",
    "os.makedirs(augmented_folder, exist_ok=True)\n",
    "\n",
    "# Load the original dataset\n",
    "data = pd.read_csv(original_csv_path)\n",
    "\n",
    "# Inspect the data\n",
    "print(\"Original Dataset:\")\n",
    "print(data.head())\n",
    "print(f\"Total original images: {data.shape[0]}\")\n"
   ],
   "metadata": {
    "collapsed": false,
    "ExecuteTime": {
     "end_time": "2024-12-04T06:58:36.559922700Z",
     "start_time": "2024-12-04T06:58:34.883146Z"
    }
   },
   "id": "4bd29fa8c057195e"
  },
  {
   "cell_type": "code",
   "execution_count": 6,
   "outputs": [],
   "source": [
    "# Data augmentation setup\n",
    "datagen = ImageDataGenerator(\n",
    "    rotation_range=30,\n",
    "    width_shift_range=0.1,\n",
    "    height_shift_range=0.1,\n",
    "    shear_range=0.2,\n",
    "    zoom_range=0.2,\n",
    "    horizontal_flip=True,\n",
    "    fill_mode='nearest'\n",
    ")\n",
    "\n",
    "# Number of augmented images per original image\n",
    "augment_count = 3  # Number of new images per original\n"
   ],
   "metadata": {
    "collapsed": false,
    "ExecuteTime": {
     "end_time": "2024-12-04T06:59:22.660061700Z",
     "start_time": "2024-12-04T06:59:22.644440100Z"
    }
   },
   "id": "7980ddef1820c4f2"
  },
  {
   "cell_type": "code",
   "execution_count": 8,
   "outputs": [
    {
     "name": "stdout",
     "output_type": "stream",
     "text": [
      "Generating augmented images...\n"
     ]
    },
    {
     "name": "stderr",
     "output_type": "stream",
     "text": [
      "Augmenting images: 100%|██████████| 3648/3648 [06:59<00:00,  8.69it/s]\n"
     ]
    }
   ],
   "source": [
    "# Augment images and save to a new folder\n",
    "print(\"Generating augmented images...\")\n",
    "for img_name in tqdm(os.listdir(image_folder), desc=\"Augmenting images\"):\n",
    "    img_path = os.path.join(image_folder, img_name)\n",
    "    if img_path.endswith(\".png\"):\n",
    "        img = cv2.imread(img_path)\n",
    "        img = img.reshape((1,) + img.shape)  # Reshape for the generator\n",
    "        \n",
    "        # Save augmented images\n",
    "        aug_iter = datagen.flow(img, batch_size=1, save_to_dir=augmented_folder, \n",
    "                                save_prefix=f\"{os.path.splitext(img_name)[0]}_aug\", save_format='png')\n",
    "        for _ in range(augment_count):\n",
    "            next(aug_iter)\n"
   ],
   "metadata": {
    "collapsed": false,
    "ExecuteTime": {
     "end_time": "2024-12-04T07:07:40.266880700Z",
     "start_time": "2024-12-04T07:00:40.524910900Z"
    }
   },
   "id": "86fd3b3899924704"
  },
  {
   "cell_type": "code",
   "execution_count": 9,
   "outputs": [
    {
     "name": "stdout",
     "output_type": "stream",
     "text": [
      "Updated dataset saved to: D:\\APTOS data\\fyp_processed_dataset\\cleaned_image_labels.csv\n",
      "Total images in updated dataset: 14590\n"
     ]
    }
   ],
   "source": [
    "# Create new entries for augmented images\n",
    "augmented_data = []\n",
    "for img_name in os.listdir(augmented_folder):\n",
    "    if img_name.endswith(\".png\"):\n",
    "        # Extract the original ID from the augmented filename\n",
    "        original_id = img_name.split(\"_aug\")[0]\n",
    "        # Find the diagnosis for the original image\n",
    "        label = data[data['id_code'] == original_id]['diagnosis'].values[0]\n",
    "        # Append a new entry for the augmented image\n",
    "        augmented_data.append({\"id_code\": os.path.splitext(img_name)[0], \"diagnosis\": label})\n",
    "\n",
    "# Convert to DataFrame\n",
    "augmented_df = pd.DataFrame(augmented_data)\n",
    "\n",
    "# Combine with the original dataset\n",
    "updated_data = pd.concat([data, augmented_df], ignore_index=True)\n",
    "\n",
    "# Save the updated dataset\n",
    "updated_csv_path = r\"D:\\APTOS data\\fyp_processed_dataset\\cleaned_image_labels.csv\"\n",
    "updated_data.to_csv(updated_csv_path, index=False)\n",
    "\n",
    "print(f\"Updated dataset saved to: {updated_csv_path}\")\n",
    "print(f\"Total images in updated dataset: {updated_data.shape[0]}\")\n"
   ],
   "metadata": {
    "collapsed": false,
    "ExecuteTime": {
     "end_time": "2024-12-04T07:07:54.487455900Z",
     "start_time": "2024-12-04T07:07:49.803478700Z"
    }
   },
   "id": "9bf5fbceac6f540e"
  },
  {
   "cell_type": "code",
   "execution_count": null,
   "outputs": [],
   "source": [],
   "metadata": {
    "collapsed": false
   },
   "id": "8d168734fe25bf6a"
  }
 ],
 "metadata": {
  "kernelspec": {
   "display_name": "Python 3",
   "language": "python",
   "name": "python3"
  },
  "language_info": {
   "codemirror_mode": {
    "name": "ipython",
    "version": 2
   },
   "file_extension": ".py",
   "mimetype": "text/x-python",
   "name": "python",
   "nbconvert_exporter": "python",
   "pygments_lexer": "ipython2",
   "version": "2.7.6"
  }
 },
 "nbformat": 4,
 "nbformat_minor": 5
}
