{
 "cells": [
  {
   "cell_type": "code",
   "execution_count": 5,
   "id": "initial_id",
   "metadata": {
    "collapsed": true,
    "ExecuteTime": {
     "end_time": "2025-04-12T05:43:05.875353300Z",
     "start_time": "2025-04-12T05:43:05.828418600Z"
    }
   },
   "outputs": [],
   "source": [
    "import os\n",
    "from PIL import Image\n",
    "from tqdm import tqdm"
   ]
  },
  {
   "cell_type": "code",
   "execution_count": 6,
   "outputs": [],
   "source": [
    "# Paths\n",
    "source_dir = r\"E:\\IRP_dataset_new\\IRP_combined_processed_images\"\n",
    "target_dir = r\"E:\\IRP_dataset_new\\IRP_Final_Images\"\n",
    "labels_file = r\"E:\\IRP_dataset_new\\APTOS_labels_combined.csv\""
   ],
   "metadata": {
    "collapsed": false,
    "ExecuteTime": {
     "end_time": "2025-04-12T05:43:17.626570300Z",
     "start_time": "2025-04-12T05:43:17.579235500Z"
    }
   },
   "id": "b7e3e48b7ba3df81"
  },
  {
   "cell_type": "code",
   "execution_count": 7,
   "outputs": [
    {
     "name": "stdout",
     "output_type": "stream",
     "text": [
      "Starting image resize process...\n",
      "Source directory: E:\\IRP_dataset_new\\IRP_combined_processed_images\n",
      "Target directory: E:\\IRP_dataset_new\\IRP_Final_Images\n",
      "Found 10832 images to resize\n"
     ]
    },
    {
     "name": "stderr",
     "output_type": "stream",
     "text": [
      "Resizing images: 100%|██████████| 10832/10832 [43:18<00:00,  4.17it/s] \n"
     ]
    },
    {
     "name": "stdout",
     "output_type": "stream",
     "text": [
      "\n",
      "Resize completed:\n",
      "  Successfully resized: 10832 images\n",
      "  Failed to resize: 0 images\n",
      "\n",
      "Verifying results...\n",
      "Source images: 10832\n",
      "Resized images: 10832\n",
      "\n",
      "All images were successfully resized to 224x224!\n",
      "\n",
      "NOTE: This process did not modify any image IDs or the label file.\n",
      "Original labels file at E:\\IRP_dataset_new\\APTOS_labels_combined.csv remains unchanged.\n"
     ]
    }
   ],
   "source": [
    "# Create target directory if it doesn't exist\n",
    "os.makedirs(target_dir, exist_ok=True)\n",
    "\n",
    "def resize_images(source_directory, target_directory, size=(224, 224)):\n",
    "    \"\"\"\n",
    "    Resize all images from source directory to the specified size and save to target directory.\n",
    "    Maintains the original filename to preserve ID codes.\n",
    "    \"\"\"\n",
    "    # Valid image extensions\n",
    "    extensions = ['.jpg', '.jpeg', '.png', '.bmp', '.tif', '.tiff']\n",
    "    \n",
    "    # Get list of files to process\n",
    "    image_files = []\n",
    "    for root, _, files in os.walk(source_directory):\n",
    "        for file in files:\n",
    "            if any(file.lower().endswith(ext) for ext in extensions):\n",
    "                image_files.append(os.path.join(root, file))\n",
    "    \n",
    "    print(f\"Found {len(image_files)} images to resize\")\n",
    "    \n",
    "    # Track progress and any errors\n",
    "    successful = 0\n",
    "    failed = 0\n",
    "    failed_files = []\n",
    "    \n",
    "    # Process each image with a progress bar\n",
    "    for file_path in tqdm(image_files, desc=\"Resizing images\"):\n",
    "        try:\n",
    "            # Get just the filename (without directory path)\n",
    "            filename = os.path.basename(file_path)\n",
    "            \n",
    "            # Open and resize the image\n",
    "            with Image.open(file_path) as img:\n",
    "                # Resize with antialiasing\n",
    "                resized_img = img.resize(size, Image.LANCZOS)\n",
    "                \n",
    "                # Save to target directory with same filename\n",
    "                target_path = os.path.join(target_directory, filename)\n",
    "                \n",
    "                # Save with original format and high quality\n",
    "                resized_img.save(target_path, quality=95)\n",
    "                \n",
    "            successful += 1\n",
    "            \n",
    "        except Exception as e:\n",
    "            failed += 1\n",
    "            failed_files.append((filename, str(e)))\n",
    "            print(f\"\\nError processing {filename}: {e}\")\n",
    "    \n",
    "    return successful, failed, failed_files\n",
    "\n",
    "def verify_resize_results(source_directory, target_directory):\n",
    "    \"\"\"\n",
    "    Verify all images were resized correctly by checking:\n",
    "    1. All source images have a corresponding target image\n",
    "    2. All target images are 224x224\n",
    "    \"\"\"\n",
    "    # Get lists of source and target files\n",
    "    source_files = []\n",
    "    for root, _, files in os.walk(source_directory):\n",
    "        for file in files:\n",
    "            if any(file.lower().endswith(ext) for ext in ['.jpg', '.jpeg', '.png', '.bmp', '.tif', '.tiff']):\n",
    "                source_files.append(os.path.basename(file))\n",
    "    \n",
    "    target_files = []\n",
    "    incorrect_size = []\n",
    "    \n",
    "    for root, _, files in os.walk(target_directory):\n",
    "        for file in files:\n",
    "            if any(file.lower().endswith(ext) for ext in ['.jpg', '.jpeg', '.png', '.bmp', '.tif', '.tiff']):\n",
    "                target_files.append(file)\n",
    "                \n",
    "                # Check dimensions\n",
    "                try:\n",
    "                    img_path = os.path.join(root, file)\n",
    "                    with Image.open(img_path) as img:\n",
    "                        if img.size != (224, 224):\n",
    "                            incorrect_size.append((file, img.size))\n",
    "                except Exception as e:\n",
    "                    print(f\"Error checking size of {file}: {e}\")\n",
    "    \n",
    "    source_set = set(source_files)\n",
    "    target_set = set(target_files)\n",
    "    \n",
    "    # Find missing files\n",
    "    missing_files = source_set - target_set\n",
    "    \n",
    "    return {\n",
    "        'total_source': len(source_files),\n",
    "        'total_target': len(target_files),\n",
    "        'missing_files': list(missing_files),\n",
    "        'missing_count': len(missing_files),\n",
    "        'incorrect_size': incorrect_size,\n",
    "        'incorrect_size_count': len(incorrect_size)\n",
    "    }\n",
    "\n",
    "def main():\n",
    "    print(f\"Starting image resize process...\")\n",
    "    print(f\"Source directory: {source_dir}\")\n",
    "    print(f\"Target directory: {target_dir}\")\n",
    "    \n",
    "    # Resize images\n",
    "    successful, failed, failed_files = resize_images(source_dir, target_dir)\n",
    "    \n",
    "    print(\"\\nResize completed:\")\n",
    "    print(f\"  Successfully resized: {successful} images\")\n",
    "    print(f\"  Failed to resize: {failed} images\")\n",
    "    \n",
    "    if failed > 0:\n",
    "        print(\"\\nFirst 10 failed files:\")\n",
    "        for i, (file, error) in enumerate(failed_files[:10]):\n",
    "            print(f\"  {i+1}. {file}: {error}\")\n",
    "    \n",
    "    # Verify results\n",
    "    print(\"\\nVerifying results...\")\n",
    "    results = verify_resize_results(source_dir, target_dir)\n",
    "    \n",
    "    print(f\"Source images: {results['total_source']}\")\n",
    "    print(f\"Resized images: {results['total_target']}\")\n",
    "    \n",
    "    if results['missing_count'] > 0:\n",
    "        print(f\"\\n{results['missing_count']} images were not resized.\")\n",
    "        print(\"First 10 missing files:\")\n",
    "        for file in results['missing_files'][:10]:\n",
    "            print(f\"  - {file}\")\n",
    "    \n",
    "    if results['incorrect_size_count'] > 0:\n",
    "        print(f\"\\n{results['incorrect_size_count']} images were not correctly resized to 224x224.\")\n",
    "        print(\"First 10 incorrect sizes:\")\n",
    "        for file, size in results['incorrect_size'][:10]:\n",
    "            print(f\"  - {file}: {size}\")\n",
    "    \n",
    "    if results['missing_count'] == 0 and results['incorrect_size_count'] == 0:\n",
    "        print(\"\\nAll images were successfully resized to 224x224!\")\n",
    "    \n",
    "    print(\"\\nNOTE: This process did not modify any image IDs or the label file.\")\n",
    "    print(f\"Original labels file at {labels_file} remains unchanged.\")\n",
    "\n",
    "if __name__ == \"__main__\":\n",
    "    main()"
   ],
   "metadata": {
    "collapsed": false,
    "ExecuteTime": {
     "end_time": "2025-04-12T06:33:13.057492400Z",
     "start_time": "2025-04-12T05:43:38.181864Z"
    }
   },
   "id": "b8d2f1b14e5bf9c"
  },
  {
   "cell_type": "code",
   "execution_count": 9,
   "outputs": [
    {
     "name": "stdout",
     "output_type": "stream",
     "text": [
      "Checking if all image IDs in the labels file exist in the images directory...\n",
      "Labels file loaded with 10832 entries\n",
      "Using 'id_code' as the image ID column\n",
      "Found 10832 unique image IDs in the labels file\n",
      "Found 10832 images in directory\n",
      "✓ All image IDs from the labels file exist in the images directory!\n",
      "Match rate: 100.00% (10832/10832)\n"
     ]
    }
   ],
   "source": [
    "import os\n",
    "import pandas as pd\n",
    "\n",
    "# Paths\n",
    "images_dir = r\"E:\\IRP_dataset_new\\IRP_Final_Images\"\n",
    "labels_file = r\"E:\\IRP_dataset_new\\APTOS_labels_combined.csv\"\n",
    "\n",
    "print(\"Checking if all image IDs in the labels file exist in the images directory...\")\n",
    "\n",
    "# Load the labels file\n",
    "df = pd.read_csv(labels_file)\n",
    "print(f\"Labels file loaded with {len(df)} entries\")\n",
    "\n",
    "# Use 'id_code' as the ID column (from the output you shared)\n",
    "id_column = 'id_code'\n",
    "print(f\"Using '{id_column}' as the image ID column\")\n",
    "\n",
    "# Get image IDs from the labels file\n",
    "image_ids_in_labels = set(df[id_column].astype(str))\n",
    "print(f\"Found {len(image_ids_in_labels)} unique image IDs in the labels file\")\n",
    "\n",
    "# Get filenames from the images directory\n",
    "image_ids_in_directory = set()\n",
    "for filename in os.listdir(images_dir):\n",
    "    if filename.lower().endswith(('.jpg', '.jpeg', '.png', '.bmp', '.tif', '.tiff')):\n",
    "        # Extract the ID from the filename (without extension)\n",
    "        image_id = os.path.splitext(filename)[0]\n",
    "        image_ids_in_directory.add(image_id)\n",
    "\n",
    "print(f\"Found {len(image_ids_in_directory)} images in directory\")\n",
    "\n",
    "# Find missing images\n",
    "missing_images = image_ids_in_labels - image_ids_in_directory\n",
    "\n",
    "# Report results\n",
    "if len(missing_images) == 0:\n",
    "    print(\"✓ All image IDs from the labels file exist in the images directory!\")\n",
    "else:\n",
    "    print(f\"✗ Found {len(missing_images)} missing images:\")\n",
    "    for missing in list(missing_images)[:10]:\n",
    "        print(f\"  - {missing}\")\n",
    "    \n",
    "    if len(missing_images) > 10:\n",
    "        print(f\"  ... and {len(missing_images) - 10} more\")\n",
    "    \n",
    "# Calculate match percentage\n",
    "match_percentage = (len(image_ids_in_labels) - len(missing_images)) / len(image_ids_in_labels) * 100\n",
    "print(f\"Match rate: {match_percentage:.2f}% ({len(image_ids_in_labels) - len(missing_images)}/{len(image_ids_in_labels)})\")"
   ],
   "metadata": {
    "collapsed": false,
    "ExecuteTime": {
     "end_time": "2025-04-12T06:37:23.452915900Z",
     "start_time": "2025-04-12T06:37:23.375062100Z"
    }
   },
   "id": "3e35b6c08d99c2ae"
  },
  {
   "cell_type": "code",
   "execution_count": null,
   "outputs": [],
   "source": [],
   "metadata": {
    "collapsed": false
   },
   "id": "2a8a86eee2757cf1"
  }
 ],
 "metadata": {
  "kernelspec": {
   "display_name": "Python 3",
   "language": "python",
   "name": "python3"
  },
  "language_info": {
   "codemirror_mode": {
    "name": "ipython",
    "version": 2
   },
   "file_extension": ".py",
   "mimetype": "text/x-python",
   "name": "python",
   "nbconvert_exporter": "python",
   "pygments_lexer": "ipython2",
   "version": "2.7.6"
  }
 },
 "nbformat": 4,
 "nbformat_minor": 5
}
