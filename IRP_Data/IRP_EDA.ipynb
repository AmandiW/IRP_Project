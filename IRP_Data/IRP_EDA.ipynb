{
 "cells": [
  {
   "cell_type": "code",
   "execution_count": 1,
   "id": "initial_id",
   "metadata": {
    "collapsed": true,
    "ExecuteTime": {
     "end_time": "2025-04-06T17:41:10.895489500Z",
     "start_time": "2025-04-06T17:41:10.719088900Z"
    }
   },
   "outputs": [],
   "source": [
    "import pandas as pd\n",
    "import numpy as np\n",
    "import matplotlib.pyplot as plt\n",
    "import seaborn as sns\n",
    "import os\n",
    "from PIL import Image\n",
    "import cv2\n",
    "import random\n",
    "from collections import Counter\n",
    "import warnings\n",
    "warnings.filterwarnings('ignore')"
   ]
  },
  {
   "cell_type": "code",
   "execution_count": 2,
   "outputs": [],
   "source": [
    "# Set paths\n",
    "image_path = r\"E:\\IRP_dataset_new\\APTOS_combined_images\"\n",
    "labels_path = r\"E:\\IRP_dataset_new\\APTOS_labels_combined.csv\""
   ],
   "metadata": {
    "collapsed": false,
    "ExecuteTime": {
     "end_time": "2025-04-06T17:41:13.726467300Z",
     "start_time": "2025-04-06T17:41:13.710843700Z"
    }
   },
   "id": "275575a63c097dd0"
  },
  {
   "cell_type": "code",
   "execution_count": 5,
   "outputs": [
    {
     "name": "stdout",
     "output_type": "stream",
     "text": [
      "\n",
      "--- Dataset Overview ---\n",
      "Total number of records: 10832\n",
      "\n",
      "First 5 records:\n",
      "        id_code  diagnosis\n",
      "0  000c1434d8d7          1\n",
      "1  001639a390f0          1\n",
      "2  0024cdab0c1e          1\n",
      "3  002c21358ce6          0\n",
      "4  005b95c28852          0\n"
     ]
    }
   ],
   "source": [
    "# 1. Load and inspect the data\n",
    "df = pd.read_csv(labels_path)\n",
    "# Display basic information\n",
    "print(\"\\n--- Dataset Overview ---\")\n",
    "print(f\"Total number of records: {len(df)}\")\n",
    "print(\"\\nFirst 5 records:\")\n",
    "print(df.head())"
   ],
   "metadata": {
    "collapsed": false,
    "ExecuteTime": {
     "end_time": "2025-04-06T17:41:37.087441300Z",
     "start_time": "2025-04-06T17:41:37.055436300Z"
    }
   },
   "id": "f2f4bc3e0ab790ca"
  },
  {
   "cell_type": "code",
   "execution_count": 6,
   "outputs": [
    {
     "name": "stdout",
     "output_type": "stream",
     "text": [
      "\n",
      "Dataset information:\n",
      "<class 'pandas.core.frame.DataFrame'>\n",
      "RangeIndex: 10832 entries, 0 to 10831\n",
      "Data columns (total 2 columns):\n",
      " #   Column     Non-Null Count  Dtype \n",
      "---  ------     --------------  ----- \n",
      " 0   id_code    10832 non-null  object\n",
      " 1   diagnosis  10832 non-null  int64 \n",
      "dtypes: int64(1), object(1)\n",
      "memory usage: 169.4+ KB\n",
      "None\n"
     ]
    }
   ],
   "source": [
    "print(\"\\nDataset information:\")\n",
    "print(df.info())"
   ],
   "metadata": {
    "collapsed": false,
    "ExecuteTime": {
     "end_time": "2025-04-06T17:41:37.966419900Z",
     "start_time": "2025-04-06T17:41:37.907851600Z"
    }
   },
   "id": "ec2fe2a769bd0e7a"
  },
  {
   "cell_type": "code",
   "execution_count": 7,
   "outputs": [
    {
     "name": "stdout",
     "output_type": "stream",
     "text": [
      "\n",
      "Descriptive statistics:\n",
      "          diagnosis\n",
      "count  10832.000000\n",
      "mean       0.502123\n",
      "std        0.500019\n",
      "min        0.000000\n",
      "25%        0.000000\n",
      "50%        1.000000\n",
      "75%        1.000000\n",
      "max        1.000000\n"
     ]
    }
   ],
   "source": [
    "print(\"\\nDescriptive statistics:\")\n",
    "print(df.describe())"
   ],
   "metadata": {
    "collapsed": false,
    "ExecuteTime": {
     "end_time": "2025-04-06T17:41:43.489042800Z",
     "start_time": "2025-04-06T17:41:43.457455200Z"
    }
   },
   "id": "27fdeee2d145131c"
  },
  {
   "cell_type": "code",
   "execution_count": 8,
   "outputs": [
    {
     "name": "stdout",
     "output_type": "stream",
     "text": [
      "\n",
      "--- Missing Values Check ---\n",
      "id_code      0\n",
      "diagnosis    0\n",
      "dtype: int64\n",
      "No missing values found in the CSV file.\n"
     ]
    }
   ],
   "source": [
    "# 2. Check for missing values\n",
    "print(\"\\n--- Missing Values Check ---\")\n",
    "missing_values = df.isnull().sum()\n",
    "print(missing_values)\n",
    "\n",
    "if missing_values.sum() > 0:\n",
    "    print(f\"\\nTotal missing values: {missing_values.sum()}\")\n",
    "    print(\"Columns with missing values:\")\n",
    "    print(missing_values[missing_values > 0])\n",
    "else:\n",
    "    print(\"No missing values found in the CSV file.\")"
   ],
   "metadata": {
    "collapsed": false,
    "ExecuteTime": {
     "end_time": "2025-04-06T17:41:44.803144100Z",
     "start_time": "2025-04-06T17:41:44.779876600Z"
    }
   },
   "id": "344ac0e0c713ee1f"
  },
  {
   "cell_type": "code",
   "execution_count": 9,
   "outputs": [
    {
     "name": "stdout",
     "output_type": "stream",
     "text": [
      "\n",
      "--- Duplicate Records Check ---\n",
      "Number of duplicate records: 0\n"
     ]
    }
   ],
   "source": [
    "# 3. Check for duplicate records\n",
    "print(\"\\n--- Duplicate Records Check ---\")\n",
    "duplicates = df.duplicated().sum()\n",
    "print(f\"Number of duplicate records: {duplicates}\")\n",
    "\n",
    "if duplicates > 0:\n",
    "    print(\"\\nDuplicate records:\")\n",
    "    print(df[df.duplicated(keep=False)].sort_values(by=df.columns.tolist()))"
   ],
   "metadata": {
    "collapsed": false,
    "ExecuteTime": {
     "end_time": "2025-04-06T17:41:46.387678800Z",
     "start_time": "2025-04-06T17:41:46.334918300Z"
    }
   },
   "id": "2720f71876000a9c"
  },
  {
   "cell_type": "code",
   "execution_count": 10,
   "outputs": [
    {
     "name": "stdout",
     "output_type": "stream",
     "text": [
      "\n",
      "--- Class Distribution ---\n",
      "diagnosis\n",
      "0    5393\n",
      "1    5439\n",
      "Name: count, dtype: int64\n"
     ]
    },
    {
     "data": {
      "text/plain": "Text(0, 0.5, 'Count')"
     },
     "execution_count": 10,
     "metadata": {},
     "output_type": "execute_result"
    },
    {
     "data": {
      "text/plain": "<Figure size 1000x600 with 1 Axes>",
      "image/png": "[encoded data removed]"
     },
     "metadata": {},
     "output_type": "display_data"
    }
   ],
   "source": [
    "# 4. Class distribution\n",
    "print(\"\\n--- Class Distribution ---\")\n",
    "class_counts = df['diagnosis'].value_counts().sort_index()\n",
    "print(class_counts)\n",
    "\n",
    "# Plot class distribution\n",
    "plt.figure(figsize=(10, 6))\n",
    "ax = sns.countplot(x='diagnosis', data=df, palette='viridis')\n",
    "plt.title('Class Distribution - Binary Classification', fontsize=15)\n",
    "plt.xlabel('Class (0: No DR, 1: DR Positive)', fontsize=12)\n",
    "plt.ylabel('Count', fontsize=12)"
   ],
   "metadata": {
    "collapsed": false,
    "ExecuteTime": {
     "end_time": "2025-04-06T17:41:48.994836900Z",
     "start_time": "2025-04-06T17:41:48.747499100Z"
    }
   },
   "id": "58a4b7468392753f"
  },
  {
   "cell_type": "code",
   "execution_count": null,
   "outputs": [],
   "source": [],
   "metadata": {
    "collapsed": false
   },
   "id": "72833c13ab5705e3"
  }
 ],
 "metadata": {
  "kernelspec": {
   "display_name": "Python 3",
   "language": "python",
   "name": "python3"
  },
  "language_info": {
   "codemirror_mode": {
    "name": "ipython",
    "version": 2
   },
   "file_extension": ".py",
   "mimetype": "text/x-python",
   "name": "python",
   "nbconvert_exporter": "python",
   "pygments_lexer": "ipython2",
   "version": "2.7.6"
  }
 },
 "nbformat": 4,
 "nbformat_minor": 5
}
